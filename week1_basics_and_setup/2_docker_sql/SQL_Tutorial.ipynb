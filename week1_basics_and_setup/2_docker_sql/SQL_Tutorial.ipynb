***REMOVED***
 "cells": [
  ***REMOVED***
   "cell_type": "code",
   "execution_count": 1,
   "id": "47a492cc",
   "metadata": ***REMOVED******REMOVED***,
   "outputs": [],
   "source": [
    "import pandas as pd"
   ]
  ***REMOVED***,
  ***REMOVED***
   "cell_type": "code",
   "execution_count": 2,
   "id": "80bae265",
   "metadata": ***REMOVED******REMOVED***,
   "outputs": [],
   "source": [
    "from sqlalchemy import create_engine"
   ]
  ***REMOVED***,
  ***REMOVED***
   "cell_type": "code",
   "execution_count": null,
   "id": "e98ed83c",
   "metadata": ***REMOVED******REMOVED***,
   "outputs": [],
   "source": [
    "!wget "
   ]
  ***REMOVED***
 ],
 "metadata": ***REMOVED***
  "kernelspec": ***REMOVED***
   "display_name": "Python 3 (ipykernel)",
   "language": "python",
   "name": "python3"
  ***REMOVED***,
  "language_info": ***REMOVED***
   "codemirror_mode": ***REMOVED***
    "name": "ipython",
    "version": 3
   ***REMOVED***,
   "file_extension": ".py",
   "mimetype": "text/x-python",
   "name": "python",
   "nbconvert_exporter": "python",
   "pygments_lexer": "ipython3",
   "version": "3.11.1"
  ***REMOVED***
 ***REMOVED***,
 "nbformat": 4,
 "nbformat_minor": 5
***REMOVED***
